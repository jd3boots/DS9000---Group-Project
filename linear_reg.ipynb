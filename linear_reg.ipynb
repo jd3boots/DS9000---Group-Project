{
 "cells": [
  {
   "cell_type": "code",
   "execution_count": 8,
   "metadata": {},
   "outputs": [],
   "source": [
    "import pandas as pd\n",
    "from sklearn.model_selection import train_test_split\n",
    "from sklearn.linear_model import LinearRegression\n",
    "from sklearn.pipeline import Pipeline"
   ]
  },
  {
   "cell_type": "code",
   "execution_count": 4,
   "metadata": {},
   "outputs": [
    {
     "name": "stdout",
     "output_type": "stream",
     "text": [
      "(63826, 9) (63826,)\n",
      "(51061, 9) (12765, 9)\n"
     ]
    }
   ],
   "source": [
    "# Load the data\n",
    "data = pd.read_csv('data.csv')\n",
    "\n",
    "data = pd.get_dummies(data, columns=['GEO', 'Category', 'Farm products', 'CattleType'], drop_first=False)\n",
    "\n",
    "data['Category_cattle_x_YoY_change_0'] = data['Category_cattle'] * data['YoY_change_0']\n",
    "data['Category_cattle_x_Diesel_-1'] =data['Category_cattle'] * data['Diesel_-1']\n",
    "data['Category_cattle_x_Diesel_0'] = data['Category_cattle'] * data['Diesel_0']\n",
    "data['Category_plant_x_YoY_change_0'] = data['Category_plant'] * data['YoY_change_0']\n",
    "\n",
    "columns_to_keep = [\n",
    "    'YoY_change_1',\n",
    "    'YoY_change_-11',\n",
    "    'YoY_change_-3',\n",
    "    'YoY_change_-2',\n",
    "    'YoY_change_-1',\n",
    "    'YoY_change_0',\n",
    "    'Category_cattle_x_YoY_change_0',\n",
    "    'Category_cattle_x_Diesel_-1',\n",
    "    'Category_cattle_x_Diesel_0',\n",
    "    'Category_plant_x_YoY_change_0'\n",
    "]\n",
    "data = data[columns_to_keep]\n",
    "\n",
    "y = data.YoY_change_1\n",
    "X = data.drop(columns=['YoY_change_1'])\n",
    "\n",
    "print(X.shape, y.shape)\n",
    "\n",
    "n_test = 12765\n",
    "Xtrain, Xtest, ytrain, ytest = train_test_split(X,y, test_size = n_test, shuffle=False)\n",
    "\n",
    "print(Xtrain.shape,Xtest.shape)"
   ]
  },
  {
   "cell_type": "code",
   "execution_count": 10,
   "metadata": {},
   "outputs": [
    {
     "name": "stdout",
     "output_type": "stream",
     "text": [
      "0.806941289551067\n",
      "0.7215898721685672\n"
     ]
    }
   ],
   "source": [
    "linreg_model = LinearRegression()\n",
    "\n",
    "all_Standard = linreg_model.fit(Xtrain, ytrain)\n",
    "\n",
    "print(all_Standard.score(Xtrain, ytrain))\n",
    "print(all_Standard.score(Xtest, ytest))\n",
    "\n",
    "y_hat = linreg_model.predict(Xtest)\n",
    "pd.DataFrame(y_hat).to_csv('y_hat_lin_reg.csv')"
   ]
  }
 ],
 "metadata": {
  "kernelspec": {
   "display_name": "Python 3",
   "language": "python",
   "name": "python3"
  },
  "language_info": {
   "codemirror_mode": {
    "name": "ipython",
    "version": 3
   },
   "file_extension": ".py",
   "mimetype": "text/x-python",
   "name": "python",
   "nbconvert_exporter": "python",
   "pygments_lexer": "ipython3",
   "version": "3.11.2"
  }
 },
 "nbformat": 4,
 "nbformat_minor": 2
}
